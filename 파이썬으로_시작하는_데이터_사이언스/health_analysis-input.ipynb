{
 "cells": [
  {
   "cell_type": "markdown",
   "id": "21a8dbaf",
   "metadata": {
    "toc": true
   },
   "source": [
    "<h1>Table of Contents<span class=\"tocSkip\"></span></h1>\n",
    "<div class=\"toc\"><ul class=\"toc-item\"><li><span><a href=\"#음주-여부에-따라-건강검진-수치-차이\" data-toc-modified-id=\"음주-여부에-따라-건강검진-수치-차이-1\"><span class=\"toc-item-num\">1&nbsp;&nbsp;</span>음주 여부에 따라 건강검진 수치 차이</a></span></li><li><span><a href=\"#신장과-허리둘레의-크기는-체중과-상관관계가-있을까\" data-toc-modified-id=\"신장과-허리둘레의-크기는-체중과-상관관계가-있을까-2\"><span class=\"toc-item-num\">2&nbsp;&nbsp;</span>신장과 허리둘레의 크기는 체중과 상관관계가 있을까</a></span></li><li><span><a href=\"#라이브러리-로드\" data-toc-modified-id=\"라이브러리-로드-3\"><span class=\"toc-item-num\">3&nbsp;&nbsp;</span>라이브러리 로드</a></span></li><li><span><a href=\"#한글폰트\" data-toc-modified-id=\"한글폰트-4\"><span class=\"toc-item-num\">4&nbsp;&nbsp;</span>한글폰트</a></span></li></ul></div>"
   ]
  },
  {
   "cell_type": "markdown",
   "id": "ddc56b61",
   "metadata": {},
   "source": [
    "## 음주 여부에 따라 건강검진 수치 차이"
   ]
  },
  {
   "cell_type": "markdown",
   "id": "b3e385d9",
   "metadata": {},
   "source": [
    "## 신장과 허리둘레의 크기는 체중과 상관관계가 있을까"
   ]
  },
  {
   "cell_type": "markdown",
   "id": "c272370a",
   "metadata": {},
   "source": [
    "## 라이브러리 로드"
   ]
  },
  {
   "cell_type": "code",
   "execution_count": 5,
   "id": "bf62f1ba",
   "metadata": {},
   "outputs": [],
   "source": [
    "import pandas as pd\n",
    "import numpy as np\n",
    "import seaborn as sns\n",
    "import matplotlib.pyplot as plt\n",
    "\n",
    "%matplotlib inline"
   ]
  },
  {
   "cell_type": "markdown",
   "id": "a30f4f34",
   "metadata": {},
   "source": [
    "## 한글폰트"
   ]
  },
  {
   "cell_type": "code",
   "execution_count": null,
   "id": "d92fbcd3",
   "metadata": {},
   "outputs": [],
   "source": [
    "# google colab 사용시 주석 풀고 폰트설정\n",
    "# 로컬 아나콘다 사용시 그대로 주석\n",
    "# 나눔고딕 설치\n"
   ]
  },
  {
   "cell_type": "code",
   "execution_count": null,
   "id": "7da9d16a",
   "metadata": {},
   "outputs": [],
   "source": []
  },
  {
   "cell_type": "code",
   "execution_count": null,
   "id": "3276df02",
   "metadata": {},
   "outputs": [],
   "source": []
  },
  {
   "cell_type": "code",
   "execution_count": null,
   "id": "839517f4",
   "metadata": {},
   "outputs": [],
   "source": []
  },
  {
   "cell_type": "code",
   "execution_count": null,
   "id": "7972d88d",
   "metadata": {},
   "outputs": [],
   "source": []
  },
  {
   "cell_type": "code",
   "execution_count": null,
   "id": "e35c43b3",
   "metadata": {},
   "outputs": [],
   "source": []
  },
  {
   "cell_type": "code",
   "execution_count": null,
   "id": "d9996cfc",
   "metadata": {},
   "outputs": [],
   "source": []
  },
  {
   "cell_type": "code",
   "execution_count": null,
   "id": "fb4785ce",
   "metadata": {},
   "outputs": [],
   "source": []
  }
 ],
 "metadata": {
  "kernelspec": {
   "display_name": "Python 3 (ipykernel)",
   "language": "python",
   "name": "python3"
  },
  "language_info": {
   "codemirror_mode": {
    "name": "ipython",
    "version": 3
   },
   "file_extension": ".py",
   "mimetype": "text/x-python",
   "name": "python",
   "nbconvert_exporter": "python",
   "pygments_lexer": "ipython3",
   "version": "3.9.13"
  },
  "toc": {
   "base_numbering": 1,
   "nav_menu": {},
   "number_sections": true,
   "sideBar": true,
   "skip_h1_title": true,
   "title_cell": "Table of Contents",
   "title_sidebar": "Contents",
   "toc_cell": true,
   "toc_position": {},
   "toc_section_display": true,
   "toc_window_display": false
  }
 },
 "nbformat": 4,
 "nbformat_minor": 5
}
